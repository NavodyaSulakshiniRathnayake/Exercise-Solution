{
 "cells": [
  {
   "cell_type": "markdown",
   "id": "3d5600ae-39e6-4cf9-ab65-1a2b51478e1a",
   "metadata": {},
   "source": [
    "## 09th of September 2024\n",
    "\n",
    "# Rathnayake Mudiyanselage Navodya Sulakshini Rathnayake"
   ]
  },
  {
   "cell_type": "code",
   "execution_count": 9,
   "id": "a03cfb2d-46c2-4de9-8baf-61339e1f566b",
   "metadata": {},
   "outputs": [
    {
     "name": "stdout",
     "output_type": "stream",
     "text": [
      "The result of the calculation was:\n",
      "    149769\n"
     ]
    }
   ],
   "source": [
    "num1=100\n",
    "num2=29\n",
    "sum_result=num1+num2\n",
    "multiplied_result=sum_result*3\n",
    "final_result=multiplied_result**2\n",
    "print(\"The result of the calculation was:\")\n",
    "print(\"   \", final_result)"
   ]
  },
  {
   "cell_type": "code",
   "execution_count": 2,
   "id": "b42fdf5d-952c-4525-abca-c8f292217e9b",
   "metadata": {},
   "outputs": [
    {
     "name": "stdin",
     "output_type": "stream",
     "text": [
      "John John\n",
      "26 26\n",
      "1995 1995\n"
     ]
    },
    {
     "name": "stdout",
     "output_type": "stream",
     "text": [
      "Password: 95Joh676\n"
     ]
    }
   ],
   "source": [
    "name+input(\"John\")\n",
    "age=int(input(\"26\"))\n",
    "year_of_birth=int(input(\"1995\"))\n",
    "last_two_digits_year=str(year_of_birth)[-2:]\n",
    "first_three_letters_name=name[:3]\n",
    "age_squared=str(age**2)\n",
    "password= last_two_digits_year + first_three_letters_name + age_squared\n",
    "print(\"Password:\",password)"
   ]
  },
  {
   "cell_type": "code",
   "execution_count": 19,
   "id": "d3f8a2ff-9ab9-453e-9a00-22df2bfc68ad",
   "metadata": {},
   "outputs": [
    {
     "name": "stdin",
     "output_type": "stream",
     "text": [
      "5 5\n",
      "6 6\n"
     ]
    },
    {
     "name": "stdout",
     "output_type": "stream",
     "text": [
      "one of the numbers is even\n"
     ]
    }
   ],
   "source": [
    "num1=int(input(\"5\"))\n",
    "num2=int(input(\"6\"))\n",
    "if num1 % 2 == 0 and num2 % 2 == 0:\n",
    "         print(\"both numbers are even\")\n",
    "\n",
    "elif num1 % 2 == 0 or num2 % 2 == 0:\n",
    "         print(\"one of the numbers is even\")\n",
    "\n",
    "else:\n",
    "         print(\"Both numbers are odd\")"
   ]
  },
  {
   "cell_type": "code",
   "execution_count": 25,
   "id": "d7d9f2a6-d016-467e-9c5c-b08202a76ca3",
   "metadata": {},
   "outputs": [
    {
     "name": "stdin",
     "output_type": "stream",
     "text": [
      "Give an integer: 5\n"
     ]
    },
    {
     "name": "stdout",
     "output_type": "stream",
     "text": [
      "The sum was: 10\n"
     ]
    }
   ],
   "source": [
    "number=int(input(\"Give an integer:\"))\n",
    "sum_of_numbers = 0\n",
    "for i in range(number):\n",
    "    sum_of_numbers += i\n",
    "\n",
    "print(f\"The sum was: {sum_of_numbers}\")"
   ]
  },
  {
   "cell_type": "code",
   "execution_count": 30,
   "id": "fdbd32ca-ff22-41fb-b594-c2faa0514ea9",
   "metadata": {},
   "outputs": [
    {
     "name": "stdout",
     "output_type": "stream",
     "text": [
      "Player 1's turn:\n"
     ]
    },
    {
     "name": "stdin",
     "output_type": "stream",
     "text": [
      "Player 1:  6\n"
     ]
    },
    {
     "name": "stdout",
     "output_type": "stream",
     "text": [
      "That's right! Number of tries: 1\n",
      "\n",
      "player 2's turn:\n"
     ]
    },
    {
     "name": "stdin",
     "output_type": "stream",
     "text": [
      "Player 2:  5\n"
     ]
    },
    {
     "name": "stdout",
     "output_type": "stream",
     "text": [
      "Try a greater number.\n"
     ]
    },
    {
     "name": "stdin",
     "output_type": "stream",
     "text": [
      "Player 2:  7\n"
     ]
    },
    {
     "name": "stdout",
     "output_type": "stream",
     "text": [
      "Try a smaller number.\n"
     ]
    },
    {
     "name": "stdin",
     "output_type": "stream",
     "text": [
      "Player 2:  6\n"
     ]
    },
    {
     "name": "stdout",
     "output_type": "stream",
     "text": [
      "That's right! Number of tries: 3\n",
      "\n",
      "Winner is Player 1 with 1 tries.\n"
     ]
    }
   ],
   "source": [
    "import random\n",
    "\n",
    "def play_game(player_name):\n",
    "    number_to_guess = random.randint(0, 10)\n",
    "    tries = 0\n",
    "    while True:\n",
    "        guess = int(input(f\"{player_name}: \"))\n",
    "        tries += 1\n",
    "        if guess < number_to_guess:\n",
    "            print(\"Try a greater number.\")\n",
    "        elif guess > number_to_guess:\n",
    "            print(\"Try a smaller number.\")\n",
    "        else:\n",
    "            print(f\"That's right! Number of tries: {tries}\")\n",
    "            return tries\n",
    "def main():\n",
    "    print(\"Player 1's turn:\")\n",
    "    player1_tries = play_game(\"Player 1\")\n",
    "    print(\"\\nplayer 2's turn:\")\n",
    "    player2_tries = play_game(\"Player 2\")\n",
    "    if player1_tries < player2_tries:\n",
    "        print(f\"\\nWinner is Player 1 with {player1_tries} tries.\")\n",
    "    elif player2_tries < player1_tries:\n",
    "        print(f\"\\nWinner is player 2 with {player2_tries} tries.\")\n",
    "    else:\n",
    "        print(f\"\\nIt's a tie! Both player took {player1_tries} tries.\")\n",
    "\n",
    "if __name__==\"__main__\":\n",
    "    main()"
   ]
  }
 ],
 "metadata": {
  "kernelspec": {
   "display_name": "Python 3 (ipykernel)",
   "language": "python",
   "name": "python3"
  },
  "language_info": {
   "codemirror_mode": {
    "name": "ipython",
    "version": 3
   },
   "file_extension": ".py",
   "mimetype": "text/x-python",
   "name": "python",
   "nbconvert_exporter": "python",
   "pygments_lexer": "ipython3",
   "version": "3.12.5"
  }
 },
 "nbformat": 4,
 "nbformat_minor": 5
}
